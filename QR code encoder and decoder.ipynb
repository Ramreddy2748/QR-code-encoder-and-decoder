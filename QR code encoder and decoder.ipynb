{
 "cells": [
  {
   "cell_type": "code",
   "execution_count": 11,
   "id": "a9e187a2",
   "metadata": {},
   "outputs": [],
   "source": [
    "import qrcode\n",
    "import cv2"
   ]
  },
  {
   "cell_type": "code",
   "execution_count": 36,
   "id": "5770b73d",
   "metadata": {},
   "outputs": [
    {
     "data": {
      "image/png": "[encoded data removed]",
      "text/plain": [
       "<qrcode.image.pil.PilImage at 0x27dfcb4fe10>"
      ]
     },
     "execution_count": 36,
     "metadata": {},
     "output_type": "execute_result"
    }
   ],
   "source": [
    "########     leetcode\n",
    "\n",
    "data='https://leetcode.com/varunram2748/'\n",
    "l= 1\n",
    "b= 5\n",
    "QRcode='QRimage1.png'\n",
    "QRimage=qrcode.make(data,version=l,box_size=b)\n",
    "QRimage.save(QRcode)\n",
    "QRimage"
   ]
  },
  {
   "cell_type": "code",
   "execution_count": 37,
   "id": "c557564b",
   "metadata": {},
   "outputs": [
    {
     "data": {
      "image/png": "[encoded data removed]",
      "text/plain": [
       "<qrcode.image.pil.PilImage at 0x27dfc8b7690>"
      ]
     },
     "execution_count": 37,
     "metadata": {},
     "output_type": "execute_result"
    }
   ],
   "source": [
    "#####   Hacker rank\n",
    "\n",
    "data1='https://www.hackerrank.com/varunram2748'\n",
    "QRcode1='QRimage.png'\n",
    "QRimage1=qrcode.make(data1,version=l,box_size=b)\n",
    "QRimage1.save(QRcode1)\n",
    "QRimage1"
   ]
  },
  {
   "cell_type": "code",
   "execution_count": 42,
   "id": "a066c91f",
   "metadata": {},
   "outputs": [
    {
     "name": "stdout",
     "output_type": "stream",
     "text": [
      "[[[ 20.  20.]\n",
      "  [164.  20.]\n",
      "  [164. 164.]\n",
      "  [ 20. 164.]]]\n",
      "QRCode data:\n",
      "https://leetcode.com/varunram2748/\n"
     ]
    }
   ],
   "source": [
    "filename = \"QRimage1.png\"\n",
    "\n",
    "# Read the QR code image\n",
    "image = cv2.imread(filename)\n",
    "\n",
    "# Initialize the cv2 QRCode detector\n",
    "detector = cv2.QRCodeDetector()\n",
    "\n",
    "# Detect and decode\n",
    "data, vertices_array, binary_qrcode = detector.detectAndDecode(image)\n",
    "#print(binary_qrcode)\n",
    "print(vertices_array)###indicate 4 corners\n",
    "\n",
    "# If there is a QR code, print the data\n",
    "if vertices_array is not None:\n",
    "    print(\"QRCode data:\")\n",
    "    print(data)\n",
    "else:\n",
    "    print(\"There was some error\")"
   ]
  },
  {
   "cell_type": "code",
   "execution_count": 9,
   "id": "18371d5f",
   "metadata": {},
   "outputs": [
    {
     "data": {
      "image/png": "[encoded data removed]",
      "text/plain": [
       "<qrcode.image.pil.PilImage at 0x27dfc087f10>"
      ]
     },
     "execution_count": 9,
     "metadata": {},
     "output_type": "execute_result"
    }
   ],
   "source": [
    "import qrcode\n",
    "\n",
    "\n",
    "phone_number = \"1234567891\"\n",
    "\n",
    "phone_url = \"tel:\" + phone_number\n",
    "\n",
    "qr = qrcode.QRCode(\n",
    "    version=1,  # Adjust version and box_size as needed\n",
    "    error_correction=qrcode.constants.ERROR_CORRECT_L,\n",
    "    box_size=10,\n",
    "    border=4,\n",
    ")\n",
    "qr.add_data(phone_url)\n",
    "qr.make(fit=True)\n",
    "\n",
    "# Create the QR code image\n",
    "qr_image = qr.make_image(fill_color=\"black\", back_color=\"white\")\n",
    "\n",
    "# Save the QR code image\n",
    "qr_image.save(\"PhoneQRCode.png\")\n",
    "qr_image"
   ]
  },
  {
   "cell_type": "code",
   "execution_count": 29,
   "id": "eb1e26bd",
   "metadata": {},
   "outputs": [
    {
     "data": {
      "image/png": "[encoded data removed]",
      "text/plain": [
       "<qrcode.image.pil.PilImage at 0x27dfc334310>"
      ]
     },
     "execution_count": 29,
     "metadata": {},
     "output_type": "execute_result"
    }
   ],
   "source": [
    "import qrcode\n",
    "\n",
    "# WhatsApp link with your phone number and message\n",
    "whatsapp_link = \"https://api.whatsapp.com/send?phone=1234567891&text=Hello%2C%20I%20have%20a%20question.\"\n",
    "\n",
    "\n",
    "qr = qrcode.QRCode(\n",
    "    version=1,\n",
    "    error_correction=qrcode.constants.ERROR_CORRECT_L,\n",
    "    box_size=5,\n",
    ")\n",
    "qr.add_data(whatsapp_link)\n",
    "\n",
    "# Create the QR code image\n",
    "qr_image = qr.make_image(fill_color=\"black\", back_color=\"white\")\n",
    "\n",
    "# Save the QR code image\n",
    "qr_image.save(\"WhatsAppQRCode.png\")\n",
    "qr_image"
   ]
  },
  {
   "cell_type": "code",
   "execution_count": null,
   "id": "2939c6dd",
   "metadata": {},
   "outputs": [],
   "source": []
  }
 ],
 "metadata": {
  "kernelspec": {
   "display_name": "Python 3 (ipykernel)",
   "language": "python",
   "name": "python3"
  },
  "language_info": {
   "codemirror_mode": {
    "name": "ipython",
    "version": 3
   },
   "file_extension": ".py",
   "mimetype": "text/x-python",
   "name": "python",
   "nbconvert_exporter": "python",
   "pygments_lexer": "ipython3",
   "version": "3.11.4"
  }
 },
 "nbformat": 4,
 "nbformat_minor": 5
}
